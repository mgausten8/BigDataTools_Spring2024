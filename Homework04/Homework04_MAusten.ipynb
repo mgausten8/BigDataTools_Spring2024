{
 "cells": [
  {
   "cell_type": "markdown",
   "metadata": {},
   "source": [
    "# Assignment 04\n",
    "#### Big Data Tools - Spring 2024\n",
    "#### Matt Austen"
   ]
  },
  {
   "cell_type": "markdown",
   "metadata": {},
   "source": [
    "### Define functions and load configuration"
   ]
  },
  {
   "cell_type": "code",
   "execution_count": 1,
   "metadata": {},
   "outputs": [],
   "source": [
    "from neo4j import GraphDatabase\n",
    "import yaml\n",
    "\n",
    "def loadConfig():\n",
    "    with open('config.yaml', 'r') as file:\n",
    "        return yaml.safe_load(file)\n",
    "    \n",
    "config = loadConfig()\n",
    "\n",
    "def getNeo4jConnection():\n",
    "    return GraphDatabase.driver(\n",
    "        config['neo4j']['uri'],\n",
    "        auth=(config['neo4j']['user'], config['neo4j']['password']))\n",
    "\n",
    "def clearDatabase(driver):\n",
    "    with driver.session() as session:\n",
    "        session.run('MATCH (n) DETACH DELETE n')\n",
    "\n",
    "def quickCypher(neo4jDriver, query, verbose=False):\n",
    "    with neo4jDriver.session() as session:\n",
    "        result = session.run(query)\n",
    "        if verbose==True:\n",
    "            for record in result:\n",
    "                print(record)"
   ]
  },
  {
   "cell_type": "markdown",
   "metadata": {},
   "source": [
    "### Establish nodes & relationships"
   ]
  },
  {
   "cell_type": "code",
   "execution_count": 2,
   "metadata": {},
   "outputs": [
    {
     "name": "stdout",
     "output_type": "stream",
     "text": [
      "<Record count=186>\n"
     ]
    }
   ],
   "source": [
    "# Create Order node\n",
    "query1 = '''\n",
    "    LOAD CSV WITH HEADERS\n",
    "    FROM 'https://raw.githubusercontent.com/gchandra10/filestorage/main/sales_100.csv' AS row\n",
    "    MERGE (o:Order {order_id: toInteger(row.`Order ID`)})\n",
    "    SET\n",
    "    o.region = row.Region,\n",
    "    o.country = row.Country,\n",
    "    o.item_type = row.`Item Type`,\n",
    "    o.sales_channel = row.`Sales Channel`,\n",
    "    o.order_priority = row.`Order Priority`,\n",
    "    o.order_date = row.`Order Date`,\n",
    "    o.ship_date = row.`Ship Date`,\n",
    "    o.units_sold = toInteger(row.UnitsSold),\n",
    "    o.unit_price = toFloat(row.UnitPrice),\n",
    "    o.unit_cost = toFloat(row.UnitCost),\n",
    "    o.total_revenue = toFloat(row.TotalRevenue),\n",
    "    o.total_cost = toFloat(row.TotalCost),\n",
    "    o.total_profit = toFloat(row.TotalProfit);\n",
    "    '''\n",
    "\n",
    "# Create Region node\n",
    "query2 = '''\n",
    "    LOAD CSV WITH HEADERS\n",
    "    FROM 'https://raw.githubusercontent.com/gchandra10/filestorage/main/sales_100.csv' AS row\n",
    "    MERGE (r:Region {name: row.Region})\n",
    "    SET\n",
    "    r.country = row.Country;\n",
    "    '''\n",
    "\n",
    "# Create Country node\n",
    "query3 = '''\n",
    "    LOAD CSV WITH HEADERS\n",
    "    FROM 'https://raw.githubusercontent.com/gchandra10/filestorage/main/sales_100.csv' AS row\n",
    "    MERGE (c:Country {name: row.Country})\n",
    "    '''\n",
    "\n",
    "# Create relationships\n",
    "query4 = '''\n",
    "    LOAD CSV WITH HEADERS\n",
    "    FROM 'https://raw.githubusercontent.com/gchandra10/filestorage/main/sales_100.csv' AS row\n",
    "    MATCH (o:Order {order_id: toInteger(row.`Order ID`)})\n",
    "    MATCH (r:Region {name: row.Region})\n",
    "    MATCH (c:Country {name: row.Country})\n",
    "    MERGE (o)-[:ORDERED_IN]->(c)\n",
    "    MERGE (o)-[:ORDERED_IN]->(r)\n",
    "    MERGE (c)-[:IS_IN]->(r);\n",
    "    '''\n",
    "\n",
    "# Establish database connection and reset it\n",
    "driver = getNeo4jConnection()\n",
    "clearDatabase(driver)\n",
    "\n",
    "# Execute queries\n",
    "quickCypher(driver, query1)\n",
    "quickCypher(driver, query2)\n",
    "quickCypher(driver, query3)\n",
    "quickCypher(driver, query4)\n",
    "quickCypher(driver, 'MATCH (x) RETURN count(x) as count', verbose=True)"
   ]
  },
  {
   "cell_type": "markdown",
   "metadata": {},
   "source": [
    "### Query #1: Write query to find the Total Sales per Region, Country. The output should contain  Total Units Sold, Total Revenue"
   ]
  },
  {
   "cell_type": "code",
   "execution_count": 3,
   "metadata": {},
   "outputs": [
    {
     "name": "stdout",
     "output_type": "stream",
     "text": [
      "<Record SUM(n.units_sold)=92606 SUM(n.total_revenue)=24225437.419999998 n.region='Sub-Saharan Africa'>\n",
      "<Record SUM(n.units_sold)=60376 SUM(n.total_revenue)=24765127.250000004 n.region='Middle East and North Africa'>\n",
      "<Record SUM(n.units_sold)=42328 SUM(n.total_revenue)=10711258.129999999 n.region='Australia and Oceania'>\n",
      "<Record SUM(n.units_sold)=121002 SUM(n.total_revenue)=34964749.830000006 n.region='Europe'>\n",
      "<Record SUM(n.units_sold)=113129 SUM(n.total_revenue)=28840812.189999998 n.region='Asia'>\n",
      "<Record SUM(n.units_sold)=53641 SUM(n.total_revenue)=17570835.419999998 n.region='Central America and the Caribbean'>\n",
      "<Record SUM(n.units_sold)=11728 SUM(n.total_revenue)=3611757.5199999996 n.region='North America'>\n"
     ]
    }
   ],
   "source": [
    "query1 = '''\n",
    "    MATCH (n:Order)\n",
    "    RETURN SUM(n.units_sold), SUM(n.total_revenue), n.region\n",
    "    '''\n",
    "\n",
    "quickCypher(driver, query1, verbose=True)"
   ]
  },
  {
   "cell_type": "markdown",
   "metadata": {},
   "source": [
    "### Query #2: Average Profit by Item Type"
   ]
  },
  {
   "cell_type": "code",
   "execution_count": 4,
   "metadata": {},
   "outputs": [
    {
     "name": "stdout",
     "output_type": "stream",
     "text": [
      "<Record AVG(n.total_profit)=12220.553846153847 n.item_type='Fruits'>\n",
      "<Record AVG(n.total_profit)=294846.912 n.item_type='Clothes'>\n",
      "<Record AVG(n.total_profit)=360624.55 n.item_type='Meat'>\n",
      "<Record AVG(n.total_profit)=64356.90545454546 n.item_type='Beverages'>\n",
      "<Record AVG(n.total_profit)=675658.4375000001 n.item_type='Office Supplies'>\n",
      "<Record AVG(n.total_profit)=952039.6741666667 n.item_type='Cosmetics'>\n",
      "<Record AVG(n.total_profit)=264249.26 n.item_type='Snacks'>\n",
      "<Record AVG(n.total_profit)=122308.46250000001 n.item_type='Personal Care'>\n",
      "<Record AVG(n.total_profit)=955267.7200000001 n.item_type='Household'>\n",
      "<Record AVG(n.total_profit)=232570.91999999998 n.item_type='Vegetables'>\n",
      "<Record AVG(n.total_profit)=325476.6533333333 n.item_type='Baby Food'>\n",
      "<Record AVG(n.total_profit)=506911.9800000001 n.item_type='Cereal'>\n"
     ]
    }
   ],
   "source": [
    "query2 = '''\n",
    "    MATCH (n:Order)\n",
    "    RETURN AVG(n.total_profit), n.item_type\n",
    "    '''\n",
    "\n",
    "quickCypher(driver, query2, verbose=True)"
   ]
  },
  {
   "cell_type": "markdown",
   "metadata": {},
   "source": [
    "### Query #3: Total profit by Sales Channel (Offline,Online)"
   ]
  },
  {
   "cell_type": "code",
   "execution_count": 5,
   "metadata": {},
   "outputs": [
    {
     "name": "stdout",
     "output_type": "stream",
     "text": [
      "<Record SUM(n.total_profit)=16363385.660000004 n.sales_channel='Offline'>\n",
      "<Record SUM(n.total_profit)=24963806.89 n.sales_channel='Online'>\n"
     ]
    }
   ],
   "source": [
    "query3 = '''\n",
    "    MATCH (n:Order)\n",
    "    RETURN SUM(n.total_profit), n.sales_channel\n",
    "    '''\n",
    "\n",
    "quickCypher(driver, query3, verbose=True)"
   ]
  },
  {
   "cell_type": "code",
   "execution_count": 6,
   "metadata": {},
   "outputs": [],
   "source": [
    "# Close neo4j connection\n",
    "driver.close()"
   ]
  }
 ],
 "metadata": {
  "kernelspec": {
   "display_name": "Python 3",
   "language": "python",
   "name": "python3"
  },
  "language_info": {
   "codemirror_mode": {
    "name": "ipython",
    "version": 3
   },
   "file_extension": ".py",
   "mimetype": "text/x-python",
   "name": "python",
   "nbconvert_exporter": "python",
   "pygments_lexer": "ipython3",
   "version": "3.8.5"
  }
 },
 "nbformat": 4,
 "nbformat_minor": 4
}
