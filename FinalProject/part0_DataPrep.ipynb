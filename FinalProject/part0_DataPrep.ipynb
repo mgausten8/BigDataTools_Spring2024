{
 "cells": [
  {
   "cell_type": "markdown",
   "metadata": {},
   "source": [
    "# Final Project\n",
    "#### Big Data Tools - Spring 2024\n",
    "#### Matt Austen\n",
    "---\n",
    "#### Load data and identify number of rows and columns"
   ]
  },
  {
   "cell_type": "code",
   "execution_count": 1,
   "metadata": {},
   "outputs": [
    {
     "name": "stdout",
     "output_type": "stream",
     "text": [
      "Member_Ideology       (50488, 22)\n",
      "Congressional_Parties (840, 9)\n",
      "Members_Votes         (25788365, 6)\n"
     ]
    }
   ],
   "source": [
    "import pandas as pd\n",
    "import config as cfg\n",
    "\n",
    "LOAD_VOTEVIEW = True\n",
    "\n",
    "# Load Voteview.com data in pandas dataframes\n",
    "if LOAD_VOTEVIEW:\n",
    "    path_members = 'https://voteview.com/static/data/out/members/HSall_members.csv'\n",
    "    path_parties = 'https://voteview.com/static/data/out/parties/HSall_parties.csv'\n",
    "    path_votes   = 'https://voteview.com/static/data/out/votes/HSall_votes.csv'\n",
    "else:        \n",
    "    # Load files locally if website is unavailable\n",
    "    path_members = '/Users/mattausten/Documents/Rowan_DataAnalytics/04_Spring2024_BigDataTools/FinalProject/HSall_members.csv'\n",
    "    path_parties = '/Users/mattausten/Documents/Rowan_DataAnalytics/04_Spring2024_BigDataTools/FinalProject/HSall_parties.csv'\n",
    "    path_votes   = '/Users/mattausten/Documents/Rowan_DataAnalytics/04_Spring2024_BigDataTools/FinalProject/HSall_votes.csv'\n",
    "members = pd.read_csv(path_members)                  # Member Ideology\n",
    "parties = pd.read_csv(path_parties)                  # Congressional Parties\n",
    "votes   = pd.read_csv(path_votes, low_memory=False)  # Members' Votes\n",
    "\n",
    "# Print numbers of rows and cols\n",
    "print('Member_Ideology      ',cfg.getNumRowsCols(members))\n",
    "print('Congressional_Parties',cfg.getNumRowsCols(parties))\n",
    "print('Members_Votes        ',cfg.getNumRowsCols(votes))"
   ]
  },
  {
   "cell_type": "markdown",
   "metadata": {},
   "source": [
    "#### Aggregate dataframes into one dataframe and add some new columns for analysis"
   ]
  },
  {
   "cell_type": "code",
   "execution_count": null,
   "metadata": {},
   "outputs": [
    {
     "name": "stdout",
     "output_type": "stream",
     "text": [
      "Final Dataframe (50361, 30)\n"
     ]
    }
   ],
   "source": [
    "import numpy as np\n",
    "\n",
    "# Add 'party_name', 'party_dim1_median', 'party_dim2_median', 'party_dim1_mean', 'party_dim2_mean' columns\n",
    "df = pd.merge(members, parties, on=['congress', 'party_code', 'chamber'], how='left')\n",
    "\n",
    "# Remove rows where chamber=='President'\n",
    "df = df[df['chamber'] != 'President']\n",
    "\n",
    "# Aggregate 'votes' on congress, chamber, icpsr... then add to df\n",
    "votes_tmp = votes.groupby(['congress', 'chamber', 'icpsr']).agg({'prob': 'mean', 'rollnumber': 'size'}).reset_index()\n",
    "df = pd.merge(df, votes_tmp, on=['congress', 'chamber', 'icpsr'], how='left')\n",
    "df = df.rename(columns={'prob': 'prob_nom', 'rollnumber': 'n_prob_nom'})\n",
    "df = df.fillna(value=np.nan)\n",
    "\n",
    "# Output full version to file\n",
    "df1 = df\n",
    "df1.to_csv('HSall_custom.csv', index=False)\n",
    "\n",
    "# Output smaller version to file\n",
    "df2 = df[df['congress'].isin([117, 118])]\n",
    "df2.to_csv('HSall_custom_small.csv', index=False)\n",
    "\n",
    "print('Final Dataframe',cfg.getNumRowsCols(df1))\n",
    "df1.head(10)"
   ]
  },
  {
   "cell_type": "code",
   "execution_count": null,
   "metadata": {},
   "outputs": [],
   "source": []
  }
 ],
 "metadata": {
  "kernelspec": {
   "display_name": "Python 3",
   "language": "python",
   "name": "python3"
  },
  "language_info": {
   "codemirror_mode": {
    "name": "ipython",
    "version": 3
   },
   "file_extension": ".py",
   "mimetype": "text/x-python",
   "name": "python",
   "nbconvert_exporter": "python",
   "pygments_lexer": "ipython3",
   "version": "3.8.5"
  }
 },
 "nbformat": 4,
 "nbformat_minor": 4
}
